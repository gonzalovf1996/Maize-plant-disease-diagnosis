{
 "cells": [
  {
   "cell_type": "markdown",
   "metadata": {},
   "source": [
    "# model_grid\n",
    "\n",
    "En el \"model_grid\", se entrena una red neuronal por medio de __Transfer Learning__.\n",
    "\n",
    "Se aplica un \"grid-search\" para buscar el modelo más óptimo de los definidos previamente.\n",
    "\n",
    "Por falta de recurso computacional no se ha podido ejectuar el entrenamiento del modelo."
   ]
  },
  {
   "cell_type": "code",
   "execution_count": 17,
   "metadata": {},
   "outputs": [],
   "source": [
    "# Funciones\n",
    "# ================================================================================================================================\n",
    "import os, sys\n",
    "sys.path.insert(1, r'C:\\Users\\gonza\\OneDrive\\Escritorio\\Bootcamp_DS\\Alumno\\ds_thebridge_1_22\\3-Machine_Learning\\Entregas\\utils')\n",
    "from funciones import procesamiento_de_datos_X, procesamiento_de_datos_y, define_x_y, contar_imagenes\n",
    "from funciones import plot_cm, metricas, plot_roc_curve, definir_modelo\n",
    "\n",
    "# Tratamiento de datos\n",
    "# ==============================================================================\n",
    "import os\n",
    "import numpy as np\n",
    "\n",
    "# Gráficos\n",
    "# ==============================================================================\n",
    "import matplotlib.pyplot as plt\n",
    "import seaborn as sns\n",
    "plt.style.use('ggplot')\n",
    "\n",
    "# Tratamiento de imágenes\n",
    "# ==============================================================================\n",
    "import tensorflow as tf\n",
    "import tensorflow_hub as hub\n",
    "from tensorflow import keras\n",
    "from keras import regularizers  \n",
    "from keras import layers\n",
    "from keras.models import Sequential\n",
    "from keras.wrappers.scikit_learn import KerasClassifier\n",
    "from keras.layers import Activation, Dropout, Flatten, Dense, BatchNormalization\n",
    "\n",
    "# Evaluación del modelo\n",
    "# ==============================================================================\n",
    "from sklearn.metrics import confusion_matrix\n",
    "\n",
    "# Configuración warnings\n",
    "# ==============================================================================\n",
    "import warnings\n",
    "warnings.filterwarnings('ignore')\n",
    "\n",
    "# Preprocesado y modelado\n",
    "# ================================================================================================================\n",
    "from sklearn.pipeline import Pipeline\n",
    "from sklearn.model_selection import GridSearchCV"
   ]
  },
  {
   "cell_type": "markdown",
   "metadata": {},
   "source": [
    "# 1. Procesamiento de datos\n",
    "=================================================================================================="
   ]
  },
  {
   "cell_type": "code",
   "execution_count": 2,
   "metadata": {},
   "outputs": [],
   "source": [
    "path_train = '../data/processed/train'\n",
    "path_val = '../data/processed/val'\n",
    "path_test = '../data/processed/test'\n",
    "tipos = os.listdir(path_train)"
   ]
  },
  {
   "cell_type": "code",
   "execution_count": 3,
   "metadata": {},
   "outputs": [],
   "source": [
    "# Definimos variables\n",
    "X_train, y_train = define_x_y(path_train)\n",
    "X_val, y_val = define_x_y(path_val)\n",
    "X_test, y_test = define_x_y(path_test)"
   ]
  },
  {
   "cell_type": "code",
   "execution_count": 4,
   "metadata": {},
   "outputs": [],
   "source": [
    "# Procesamiento de datos\n",
    "X_train, X_val, X_test = procesamiento_de_datos_X(X_train, X_val, X_test)\n",
    "y_train, y_val, y_test = procesamiento_de_datos_y(y_train, y_val, y_test)"
   ]
  },
  {
   "cell_type": "markdown",
   "metadata": {},
   "source": [
    "### Definición de los pesos"
   ]
  },
  {
   "cell_type": "code",
   "execution_count": 8,
   "metadata": {},
   "outputs": [],
   "source": [
    "summary_y_train = contar_imagenes(path_train, tipos)"
   ]
  },
  {
   "cell_type": "code",
   "execution_count": 11,
   "metadata": {},
   "outputs": [
    {
     "data": {
      "image/png": "[encoded data removed]",
      "text/plain": [
       "<Figure size 720x288 with 1 Axes>"
      ]
     },
     "metadata": {},
     "output_type": "display_data"
    }
   ],
   "source": [
    "plt.figure(figsize=(10,4))\n",
    "ax = sns.barplot(x=summary_y_train.iloc[:,0], y=summary_y_train.iloc[:,1], palette='Blues_d')\n",
    "plt.title('Tamaño muestral en train')\n",
    "plt.ylabel('', fontsize=18)\n",
    "ax.bar_label(ax.containers[0]);"
   ]
  },
  {
   "cell_type": "markdown",
   "metadata": {},
   "source": [
    "Vemos que el target está desbalanceado ligeramente\n",
    "\n",
    "Para lograr un modelo que genelarice bien, __es fundamental compensar este desequilibrio__. De lo contrario, un modelo de ML tenderá a ignorar las muestras minoritarias, y por tanto tener un rendimiento menor cuando haya que etiquetarlas.\n",
    "\n",
    "En este caso, los datos están desproporcionados ligeramente, especialemnte contamos con una minoría clara: 'Gray-Leaf_Spot'. Aplicaremos pesos si mejora el rendimiento de nuestro modelo."
   ]
  },
  {
   "cell_type": "code",
   "execution_count": 13,
   "metadata": {},
   "outputs": [
    {
     "data": {
      "text/html": [
       "<div>\n",
       "<style scoped>\n",
       "    .dataframe tbody tr th:only-of-type {\n",
       "        vertical-align: middle;\n",
       "    }\n",
       "\n",
       "    .dataframe tbody tr th {\n",
       "        vertical-align: top;\n",
       "    }\n",
       "\n",
       "    .dataframe thead th {\n",
       "        text-align: right;\n",
       "    }\n",
       "</style>\n",
       "<table border=\"1\" class=\"dataframe\">\n",
       "  <thead>\n",
       "    <tr style=\"text-align: right;\">\n",
       "      <th></th>\n",
       "      <th>Class_Name</th>\n",
       "      <th>No of Images</th>\n",
       "      <th>actual_weight</th>\n",
       "      <th>weight</th>\n",
       "    </tr>\n",
       "  </thead>\n",
       "  <tbody>\n",
       "    <tr>\n",
       "      <th>0</th>\n",
       "      <td>Blight</td>\n",
       "      <td>916</td>\n",
       "      <td>0.273596</td>\n",
       "      <td>1.139738</td>\n",
       "    </tr>\n",
       "    <tr>\n",
       "      <th>1</th>\n",
       "      <td>Common_Rust</td>\n",
       "      <td>1044</td>\n",
       "      <td>0.311828</td>\n",
       "      <td>1.000000</td>\n",
       "    </tr>\n",
       "    <tr>\n",
       "      <th>2</th>\n",
       "      <td>Gray_Leaf_Spot</td>\n",
       "      <td>459</td>\n",
       "      <td>0.137097</td>\n",
       "      <td>2.274510</td>\n",
       "    </tr>\n",
       "    <tr>\n",
       "      <th>3</th>\n",
       "      <td>Healthy</td>\n",
       "      <td>929</td>\n",
       "      <td>0.277479</td>\n",
       "      <td>1.123789</td>\n",
       "    </tr>\n",
       "  </tbody>\n",
       "</table>\n",
       "</div>"
      ],
      "text/plain": [
       "       Class_Name  No of Images  actual_weight    weight\n",
       "0          Blight           916       0.273596  1.139738\n",
       "1     Common_Rust          1044       0.311828  1.000000\n",
       "2  Gray_Leaf_Spot           459       0.137097  2.274510\n",
       "3         Healthy           929       0.277479  1.123789"
      ]
     },
     "execution_count": 13,
     "metadata": {},
     "output_type": "execute_result"
    }
   ],
   "source": [
    "summary_y_train['actual_weight'] = summary_y_train['No of Images'] / summary_y_train['No of Images'].sum()\n",
    "summary_y_train['weight'] = 1 / (summary_y_train['No of Images'] / summary_y_train['No of Images'].max())\n",
    "\n",
    "summary_y_train"
   ]
  },
  {
   "cell_type": "code",
   "execution_count": 14,
   "metadata": {},
   "outputs": [
    {
     "data": {
      "text/plain": [
       "{0: 1.1397379912663756, 1: 1.0, 2: 2.2745098039215685, 3: 1.123789020452099}"
      ]
     },
     "execution_count": 14,
     "metadata": {},
     "output_type": "execute_result"
    }
   ],
   "source": [
    "# {'Blight': 0, 'Common_Rust': 1, 'Gray_Leaf_Spot': 2, 'Healthy': 3}\n",
    "class_weights = {i : summary_y_train['weight'][i] for i in range(len(summary_y_train))}  \n",
    "class_weights"
   ]
  },
  {
   "cell_type": "markdown",
   "metadata": {},
   "source": [
    "# 2. Definición del modelo\n",
    "=================================================================================================="
   ]
  },
  {
   "cell_type": "markdown",
   "metadata": {},
   "source": [
    "## Transfer Learning\n",
    "\n",
    "Una red neuronal permite añadir varias capas de aprendizaje de forma secuencial. Se puede comenzar desde cero, de tal forma que el modelo parta de una base en blanco, o se le puede dar otra red neuronal de entrada para que entrene y aprenda partiendo de un conocimiento previo.\n",
    "\n",
    "Vamos a utilizar como capa de entrada una red neuronal ya entrenada previamente por expertos, disponibles al público en __[TensorFlow Hub](https://tfhub.dev/)__."
   ]
  },
  {
   "cell_type": "code",
   "execution_count": 17,
   "metadata": {},
   "outputs": [],
   "source": [
    "# Escogemos el modelo base, sobre diagnóstico de plantas están disponibles los siguientes:\n",
    "\n",
    "modelos_google_cropnet = {\n",
    "    'cropnet_cassava': 'https://tfhub.dev/google/cropnet/feature_vector/cassava_disease_V1/1',\n",
    "    'cropnet_concat': 'https://tfhub.dev/google/cropnet/feature_vector/concat/1',\n",
    "    'cropnet_imagenet': 'https://tfhub.dev/google/cropnet/feature_vector/imagenet/1',\n",
    "    'mobilenet_v3_large_100_224': 'https://tfhub.dev/google/imagenet/mobilenet_v3_large_100_224/feature_vector/5',\n",
    "}"
   ]
  },
  {
   "cell_type": "markdown",
   "metadata": {},
   "source": [
    "## Modelo secuencial\n",
    "\n",
    "El modelo __Sequential__ es una forma eficaz para construir un modelo en _Keras_, una interfaz para la librería _TensorFlow_. A este modelo se le agrega cada capa, capa por capa, mediante la función 'add()'.\n",
    "\n",
    "Para componer el modelo, indicaremostres campos:\n",
    "\n",
    "- __Optimizador__: Utilizamores el optimizador __Adam__, ya que según Kingma et al., 2014 este método es _\"computationally efficient, has little memory requirement, invariant to diagonal rescaling of gradients, and is well suited for problems that are large in terms of data/parameters\"._\n",
    " \n",
    "- __Función de pérdidas__: Utilizaremos el __'Sparse categorical cross entropy'__, muy común para los modelos de clasificación multi-clase. Las funciones de pérdidas (loss functions) muestran cuánto se desvían las estimaciones de su valor real.\n",
    "\n",
    "- __Métrica__: Utilizamos la métrica __Recall__, la cual muestra el porcentaje de positivos reales que se clasificaron correctamente. Como tratamos de diagnosticar qué plantas de maíz están enfermas, entonces, es de vital importancia identificar bien a todas las que sí que lo estén, y reducir el error de que no queden clasificadas como enfermas. Como segunda métrica decisiva, utilizaremos el F2 score. Como las métricas se han eliminado de keras (2.0 version), utilizaremos 'accuracy'."
   ]
  },
  {
   "cell_type": "markdown",
   "metadata": {},
   "source": [
    "## Fine-tuning\n",
    "\n",
    "Vamos a hacer un _gridsearch_ para escoger el modelo que mejor métricas tenga"
   ]
  },
  {
   "cell_type": "code",
   "execution_count": 19,
   "metadata": {},
   "outputs": [],
   "source": [
    "# Al ser un modelo de clasificación, utilizamos un KerasClassifier wrapper\n",
    "keras_estimator = KerasClassifier(build_fn=definir_modelo, verbose=1, batch_size=128, epochs=11)\n",
    "\n",
    "# Definimos un pipeline\n",
    "pipe_keras = Pipeline([(\"kc\", keras_estimator)])\n",
    "\n",
    "# Definimos los distintos hiperparámetros en los que iteraremos\n",
    "param_grid = {\n",
    "    'kc__base_model': [modelos_google_cropnet['cropnet_cassava'], modelos_google_cropnet['cropnet_concat'], \n",
    "                    modelos_google_cropnet['cropnet_imagenet'], modelos_google_cropnet['mobilenet_v3_large_100_224']],\n",
    "    'kc__epochs': [5, 11],\n",
    "    'kc__batch_size':[32, 128],\n",
    "    'kc__class_weight' : [None, class_weights]\n",
    "    }\n",
    "\n",
    "# Gridsearch\n",
    "grid = GridSearchCV(estimator=pipe_keras,  \n",
    "                    n_jobs=-1, \n",
    "                    verbose=2,\n",
    "                    return_train_score=True,\n",
    "                    cv=5,  #cross validation (n_splits=5, shuffle=True)\n",
    "                    param_grid=param_grid,\n",
    "                    )"
   ]
  },
  {
   "cell_type": "markdown",
   "metadata": {},
   "source": [
    "# 3. Entrenamiento del modelo\n",
    "=================================================================================================="
   ]
  },
  {
   "cell_type": "code",
   "execution_count": 20,
   "metadata": {},
   "outputs": [
    {
     "name": "stdout",
     "output_type": "stream",
     "text": [
      "Fitting 5 folds for each of 32 candidates, totalling 160 fits\n"
     ]
    }
   ],
   "source": [
    "grid_result = grid.fit(X_train, y_train)"
   ]
  },
  {
   "cell_type": "markdown",
   "metadata": {},
   "source": [
    "### Falta de resultados\n",
    "\n",
    "Por falta de recurso computacional, este último paso no se puede llevar a cabo. No obstante, ya se ha desglosado en el resto de notebooks modelo por modelo, sin iterar mediante un grid search."
   ]
  }
 ],
 "metadata": {
  "interpreter": {
   "hash": "c476fdca1fa146c1aa9930d737fa2969289d4717133eb1043d72ac40501f9294"
  },
  "kernelspec": {
   "display_name": "Python 3.7.4 64-bit",
   "language": "python",
   "name": "python3"
  },
  "language_info": {
   "codemirror_mode": {
    "name": "ipython",
    "version": 3
   },
   "file_extension": ".py",
   "mimetype": "text/x-python",
   "name": "python",
   "nbconvert_exporter": "python",
   "pygments_lexer": "ipython3",
   "version": "3.7.4"
  },
  "orig_nbformat": 4
 },
 "nbformat": 4,
 "nbformat_minor": 2
}
