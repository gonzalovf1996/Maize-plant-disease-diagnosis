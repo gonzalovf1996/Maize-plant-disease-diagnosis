{
 "cells": [
  {
   "cell_type": "markdown",
   "metadata": {},
   "source": [
    "# Comparación de modelos\n",
    "\n",
    "A falta de recurso computacional para llevar a cabo un grid search, este notebook compara los diferentes modelos. Todos ellos son modelos secuenciales, que forman parte de una red neuronal convolucional de dos dimensiones.\n",
    "\n",
    "La __Métrica de comparación de modelos__ utilizada es la métrica __Recall__, la cual muestra el porcentaje de positivos reales que se clasificaron correctamente. Como tratamos de diagnosticar qué plantas de maíz están enfermas, entonces, es de vital importancia identificar bien a todas las que sí que lo estén, y reducir el error de que no queden clasificadas como enfermas.\n",
    "\n",
    "Como no se ha aplicado un grid-search, la comparación de modelos manual debe seguir un número de entrenamientos similar para ser comparable. por ende, utilizamos un \"epoch\" de 5. Finalmente, para optimizar el modelo con mejor rendimiento si que optimizamos también el \"epoch\".\n",
    "\n",
    "==================================================================================================\n",
    "\n",
    "### índice:\n",
    "1. Modelos\n",
    "\n",
    "    1A. Modelos construidos desde cero\n",
    "    \n",
    "    1B. Modelos construidos a partir de Transfer Learning\n",
    "\n",
    "2. Parámetros de optimización del modelo con mejor rendimiento\n",
    "3. El modelo final optimizado: my_model"
   ]
  },
  {
   "cell_type": "code",
   "execution_count": 1,
   "metadata": {},
   "outputs": [],
   "source": [
    "# ================================================================================================================================\n",
    "# CARGAMOS FUNCIONES \n",
    "# ================================================================================================================================\n",
    "\n",
    "# Funciones\n",
    "# ================================================================================================================================\n",
    "import os, sys\n",
    "sys.path.insert(1, r'C:\\Users\\gonza\\OneDrive\\Escritorio\\Bootcamp_DS\\Alumno\\ds_thebridge_1_22\\3-Machine_Learning\\Entregas\\utils')\n",
    "from funciones import procesamiento_de_datos_X, procesamiento_de_datos_y, define_x_y, contar_imagenes\n",
    "from funciones import plot_cm, metricas, plot_roc_curve, recall \n",
    "\n",
    "# Tratamiento de datos\n",
    "# ==============================================================================\n",
    "import os\n",
    "import numpy as np\n",
    "import pandas as pd\n",
    "\n",
    "# Gráficos\n",
    "# ==============================================================================\n",
    "import matplotlib.pyplot as plt\n",
    "plt.style.use('ggplot')\n",
    "\n",
    "# Tratamiento de imágenes\n",
    "# ==============================================================================\n",
    "from tensorflow import keras\n",
    "from keras import regularizers  \n",
    "from keras import layers \n",
    "from keras.models import Sequential\n",
    "from keras.layers import Conv2D, Activation, Dropout, Flatten, Dense, BatchNormalization\n",
    "\n",
    "# Evaluación del modelo\n",
    "# ==============================================================================\n",
    "from sklearn.metrics import confusion_matrix, precision_score, recall_score, accuracy_score, auc, roc_curve\n",
    "\n",
    "# Configuración warnings\n",
    "# ==============================================================================\n",
    "import warnings\n",
    "warnings.filterwarnings('ignore')"
   ]
  },
  {
   "cell_type": "code",
   "execution_count": 2,
   "metadata": {},
   "outputs": [],
   "source": [
    "# ================================================================================================================================\n",
    "# CARGAMOS DATOS\n",
    "# ================================================================================================================================\n",
    "# Path\n",
    "path_train = '../data/processed/train'\n",
    "path_val = '../data/processed/val'\n",
    "path_test = '../data/processed/test'\n",
    "tipos = os.listdir(path_train)\n",
    "\n",
    "# ================================================================================================================================\n",
    "# Definimos variables\n",
    "X_train, y_train = define_x_y(path_train)\n",
    "X_val, y_val = define_x_y(path_val)\n",
    "X_test, y_test = define_x_y(path_test)\n",
    "\n",
    "# ================================================================================================================================\n",
    "# Procesamiento de datos\n",
    "X_train, X_val, X_test = procesamiento_de_datos_X(X_train, X_val, X_test)\n",
    "y_train, y_val, y_test = procesamiento_de_datos_y(y_train, y_val, y_test)\n",
    "\n",
    "# ================================================================================================================================"
   ]
  },
  {
   "cell_type": "markdown",
   "metadata": {},
   "source": [
    "# 1. Modelos\n",
    "==================================================================================================\n",
    "\n",
    "## 1A. Modelos construidos desde cero:\n",
    "- __model_vo__: se le aplica la técnica de \"data augmentation\" para optimizar el modelo.\n"
   ]
  },
  {
   "cell_type": "code",
   "execution_count": 3,
   "metadata": {},
   "outputs": [],
   "source": [
    "model_v0 = keras.models.load_model(\"../model/model_v0\")"
   ]
  },
  {
   "cell_type": "markdown",
   "metadata": {},
   "source": [
    "## 1B. Modelos construidos a partir de __Transfer Learning__:\n",
    "\n",
    "Una red neuronal permite añadir varias capas de aprendizaje de forma secuencial. Se puede comenzar desde cero, de tal forma que el modelo parta de una base en blanco, o se le puede dar otra red neuronal de entrada para que entrene y aprenda partiendo de un conocimiento previo.\n",
    "\n",
    "\n",
    "- __model_v1__: la red neuronal base aplicada es \"MobileNet\".\n",
    "\n",
    "- __model_v2__: la red neuronal base aplicada es \"mobilenet_v3_large_100_224\".\n",
    "\n",
    "- __model_v3__: la red neuronal base aplicada es \"cassava_disease_V1\".\n",
    "\n",
    "- __model_v4__: la red neuronal base aplicada es \"concat\".\n",
    "\n",
    "- __model_v5__: la red neuronal base aplicada es \"imagenet\"."
   ]
  },
  {
   "cell_type": "code",
   "execution_count": 4,
   "metadata": {},
   "outputs": [],
   "source": [
    "model_v1 = keras.models.load_model(\"../model/model_v1\")\n",
    "model_v2 = keras.models.load_model(\"../model/model_v2\")\n",
    "model_v3 = keras.models.load_model(\"../model/model_v3\")\n",
    "model_v4 = keras.models.load_model(\"../model/model_v4\")\n",
    "model_v5 = keras.models.load_model(\"../model/model_v5\")"
   ]
  },
  {
   "cell_type": "code",
   "execution_count": 5,
   "metadata": {},
   "outputs": [],
   "source": [
    "# Creamos dataframe con los recall de cada modelo\n",
    "\n",
    "evaluacion = pd.DataFrame(['model_v0', 'model_v1', 'model_v2', 'model_v3', 'model_v4', 'model_v5'])\n",
    "evaluacion['recall'] = [recall_score(y_test, np.argmax(model_v0.predict(X_test), axis=1), average='weighted'), \n",
    "                        recall_score(y_test, np.argmax(model_v1.predict(X_test), axis=1), average='weighted'), \n",
    "                        recall_score(y_test, np.argmax(model_v2.predict(X_test), axis=1), average='weighted'), \n",
    "                        recall_score(y_test, np.argmax(model_v3.predict(X_test), axis=1), average='weighted'), \n",
    "                        recall_score(y_test, np.argmax(model_v4.predict(X_test), axis=1), average='weighted'), \n",
    "                        recall_score(y_test, np.argmax(model_v5.predict(X_test), axis=1), average='weighted')\n",
    "                        ]"
   ]
  },
  {
   "cell_type": "code",
   "execution_count": 6,
   "metadata": {},
   "outputs": [
    {
     "data": {
      "image/png": "[encoded data removed]",
      "text/plain": [
       "<Figure size 864x360 with 1 Axes>"
      ]
     },
     "metadata": {},
     "output_type": "display_data"
    }
   ],
   "source": [
    "recall(evaluacion.iloc[:,0], y_test, evaluacion.iloc[:,1])"
   ]
  },
  {
   "cell_type": "markdown",
   "metadata": {},
   "source": [
    "__Mejor modelo__: el modelo con mejor rendimiento ante datos nuevos es el \"model_v2\"."
   ]
  },
  {
   "cell_type": "code",
   "execution_count": 7,
   "metadata": {},
   "outputs": [
    {
     "data": {
      "text/html": [
       "<div>\n",
       "<style scoped>\n",
       "    .dataframe tbody tr th:only-of-type {\n",
       "        vertical-align: middle;\n",
       "    }\n",
       "\n",
       "    .dataframe tbody tr th {\n",
       "        vertical-align: top;\n",
       "    }\n",
       "\n",
       "    .dataframe thead th {\n",
       "        text-align: right;\n",
       "    }\n",
       "</style>\n",
       "<table border=\"1\" class=\"dataframe\">\n",
       "  <thead>\n",
       "    <tr style=\"text-align: right;\">\n",
       "      <th></th>\n",
       "      <th>0</th>\n",
       "      <th>recall</th>\n",
       "    </tr>\n",
       "  </thead>\n",
       "  <tbody>\n",
       "    <tr>\n",
       "      <th>2</th>\n",
       "      <td>model_v2</td>\n",
       "      <td>0.921986</td>\n",
       "    </tr>\n",
       "    <tr>\n",
       "      <th>3</th>\n",
       "      <td>model_v3</td>\n",
       "      <td>0.900709</td>\n",
       "    </tr>\n",
       "    <tr>\n",
       "      <th>1</th>\n",
       "      <td>model_v1</td>\n",
       "      <td>0.853428</td>\n",
       "    </tr>\n",
       "    <tr>\n",
       "      <th>4</th>\n",
       "      <td>model_v4</td>\n",
       "      <td>0.711584</td>\n",
       "    </tr>\n",
       "    <tr>\n",
       "      <th>0</th>\n",
       "      <td>model_v0</td>\n",
       "      <td>0.640662</td>\n",
       "    </tr>\n",
       "    <tr>\n",
       "      <th>5</th>\n",
       "      <td>model_v5</td>\n",
       "      <td>0.503546</td>\n",
       "    </tr>\n",
       "  </tbody>\n",
       "</table>\n",
       "</div>"
      ],
      "text/plain": [
       "          0    recall\n",
       "2  model_v2  0.921986\n",
       "3  model_v3  0.900709\n",
       "1  model_v1  0.853428\n",
       "4  model_v4  0.711584\n",
       "0  model_v0  0.640662\n",
       "5  model_v5  0.503546"
      ]
     },
     "execution_count": 7,
     "metadata": {},
     "output_type": "execute_result"
    }
   ],
   "source": [
    "evaluacion.sort_values(by='recall', ascending=False)"
   ]
  },
  {
   "cell_type": "markdown",
   "metadata": {},
   "source": [
    "# 2. Parámetros de optimización del modelo con mejor rendimiento\n",
    "==================================================================================================\n",
    "\n",
    "Modelos: el modelo que mejor rendimiento da es cuando se construye a partir de Transfer Learning, con el modelo base \"mobilenet_v3_large_100_224\" (model_v2). El modelo base ha sido publicado por: Andrew Howard, Mark Sandler, Grace Chu, Liang-Chieh Chen, Bo Chen, Mingxing Tan, Weijun Wang, Yukun Zhu, Ruoming Pang, Vijay Vasudevan, Quoc V. Le, Hartwig Adam: \"Searching for MobileNetV3\", 2019; y está disponible al público en __[TensorFlow Hub](https://tfhub.dev/)__.\n",
    "\n",
    "Tratamos de optimizarlo en los siguientes modelos:\n",
    "\n",
    "- __model_v6__: la red neuronal base aplicada es \"mobilenet_v3_large_100_224\", al igual que en el \"model_v2\". Para optimizarlo, se le aplica la técnica de \"data augmentation\".\n",
    "\n",
    "- __model_v7__: la red neuronal base aplicada es \"mobilenet_v3_large_100_224\", al igual que en el \"model_v2\". Para optimizarlo, se le aplican pesos para tratar de optimizar el modelo."
   ]
  },
  {
   "cell_type": "code",
   "execution_count": 8,
   "metadata": {},
   "outputs": [],
   "source": [
    "model_v6 = keras.models.load_model(\"../model/model_v6\")\n",
    "model_v7_pesos = keras.models.load_model(\"../model/model_v7_pesos\")"
   ]
  },
  {
   "cell_type": "code",
   "execution_count": 9,
   "metadata": {},
   "outputs": [],
   "source": [
    "evaluacion2 = pd.DataFrame(['model_v2', 'model_v6', 'model_v7_pesos'])\n",
    "evaluacion2['recall'] = [recall_score(y_test, np.argmax(model_v2.predict(X_test), axis=1), average='weighted'), \n",
    "                        recall_score(y_test, np.argmax(model_v6.predict(X_test), axis=1), average='weighted'), \n",
    "                        recall_score(y_test, np.argmax(model_v7_pesos.predict(X_test), axis=1), average='weighted')\n",
    "                        ]"
   ]
  },
  {
   "cell_type": "code",
   "execution_count": 10,
   "metadata": {},
   "outputs": [
    {
     "data": {
      "image/png": "[encoded data removed]",
      "text/plain": [
       "<Figure size 864x360 with 1 Axes>"
      ]
     },
     "metadata": {},
     "output_type": "display_data"
    }
   ],
   "source": [
    "recall(evaluacion2.iloc[:,0], y_test, evaluacion2.iloc[:,1])"
   ]
  },
  {
   "cell_type": "code",
   "execution_count": 11,
   "metadata": {},
   "outputs": [
    {
     "data": {
      "text/html": [
       "<div>\n",
       "<style scoped>\n",
       "    .dataframe tbody tr th:only-of-type {\n",
       "        vertical-align: middle;\n",
       "    }\n",
       "\n",
       "    .dataframe tbody tr th {\n",
       "        vertical-align: top;\n",
       "    }\n",
       "\n",
       "    .dataframe thead th {\n",
       "        text-align: right;\n",
       "    }\n",
       "</style>\n",
       "<table border=\"1\" class=\"dataframe\">\n",
       "  <thead>\n",
       "    <tr style=\"text-align: right;\">\n",
       "      <th></th>\n",
       "      <th>0</th>\n",
       "      <th>recall</th>\n",
       "    </tr>\n",
       "  </thead>\n",
       "  <tbody>\n",
       "    <tr>\n",
       "      <th>0</th>\n",
       "      <td>model_v2</td>\n",
       "      <td>0.921986</td>\n",
       "    </tr>\n",
       "    <tr>\n",
       "      <th>2</th>\n",
       "      <td>model_v7_pesos</td>\n",
       "      <td>0.900709</td>\n",
       "    </tr>\n",
       "    <tr>\n",
       "      <th>1</th>\n",
       "      <td>model_v6</td>\n",
       "      <td>0.858156</td>\n",
       "    </tr>\n",
       "  </tbody>\n",
       "</table>\n",
       "</div>"
      ],
      "text/plain": [
       "                0    recall\n",
       "0        model_v2  0.921986\n",
       "2  model_v7_pesos  0.900709\n",
       "1        model_v6  0.858156"
      ]
     },
     "execution_count": 11,
     "metadata": {},
     "output_type": "execute_result"
    }
   ],
   "source": [
    "evaluacion2.sort_values(by='recall', ascending=False)"
   ]
  },
  {
   "cell_type": "markdown",
   "metadata": {},
   "source": [
    "__Mejor modelo__: nuevamente el modelo con mejor rendimiento ante datos nuevos es el \"model_v2\", por lo que en este caso no se optimiza si aplicamos pesos o si aplicamos la técnica de \"data augmentation\"."
   ]
  },
  {
   "cell_type": "markdown",
   "metadata": {},
   "source": [
    "# 3. El modelo final optimizado: my_model\n",
    "\n",
    "==================================================================================================\n",
    "\n",
    "A partir del modelo base \"mobilenet_v3_large_100_224\", tratamos de optimizarlo sin aplicar la técnica de \"data augmentation\" y sin aplicar pesos, ya que hemos visto que no mejora el rendimiento del modelo ante datos nuevos. Por otro lado, utilizamos un epoch variable, es decir, que se entrena un número de veces óptimo ante la función de pérdidas en la muestra de validación."
   ]
  },
  {
   "cell_type": "code",
   "execution_count": 12,
   "metadata": {},
   "outputs": [],
   "source": [
    "my_model = keras.models.load_model(\"../model/my_model\")"
   ]
  },
  {
   "cell_type": "code",
   "execution_count": 13,
   "metadata": {},
   "outputs": [],
   "source": [
    "evaluacion3 = pd.DataFrame(['model_v2', 'model_v6', 'model_v7_pesos', 'my_model'])\n",
    "evaluacion3['recall'] = [recall_score(y_test, np.argmax(model_v2.predict(X_test), axis=1), average='weighted'),\n",
    "                        recall_score(y_test, np.argmax(model_v6.predict(X_test), axis=1), average='weighted'), \n",
    "                        recall_score(y_test, np.argmax(model_v7_pesos.predict(X_test), axis=1), average='weighted'),\n",
    "                        recall_score(y_test, np.argmax(my_model.predict(X_test), axis=1), average='weighted')\n",
    "                        ]"
   ]
  },
  {
   "cell_type": "code",
   "execution_count": 14,
   "metadata": {},
   "outputs": [
    {
     "data": {
      "image/png": "[encoded data removed]",
      "text/plain": [
       "<Figure size 864x360 with 1 Axes>"
      ]
     },
     "metadata": {},
     "output_type": "display_data"
    }
   ],
   "source": [
    "recall(evaluacion3.iloc[:,0], y_test, evaluacion3.iloc[:,1])"
   ]
  },
  {
   "cell_type": "code",
   "execution_count": 15,
   "metadata": {},
   "outputs": [
    {
     "data": {
      "text/html": [
       "<div>\n",
       "<style scoped>\n",
       "    .dataframe tbody tr th:only-of-type {\n",
       "        vertical-align: middle;\n",
       "    }\n",
       "\n",
       "    .dataframe tbody tr th {\n",
       "        vertical-align: top;\n",
       "    }\n",
       "\n",
       "    .dataframe thead th {\n",
       "        text-align: right;\n",
       "    }\n",
       "</style>\n",
       "<table border=\"1\" class=\"dataframe\">\n",
       "  <thead>\n",
       "    <tr style=\"text-align: right;\">\n",
       "      <th></th>\n",
       "      <th>0</th>\n",
       "      <th>recall</th>\n",
       "    </tr>\n",
       "  </thead>\n",
       "  <tbody>\n",
       "    <tr>\n",
       "      <th>0</th>\n",
       "      <td>model_v2</td>\n",
       "      <td>0.921986</td>\n",
       "    </tr>\n",
       "    <tr>\n",
       "      <th>3</th>\n",
       "      <td>my_model</td>\n",
       "      <td>0.912530</td>\n",
       "    </tr>\n",
       "    <tr>\n",
       "      <th>2</th>\n",
       "      <td>model_v7_pesos</td>\n",
       "      <td>0.900709</td>\n",
       "    </tr>\n",
       "    <tr>\n",
       "      <th>1</th>\n",
       "      <td>model_v6</td>\n",
       "      <td>0.858156</td>\n",
       "    </tr>\n",
       "  </tbody>\n",
       "</table>\n",
       "</div>"
      ],
      "text/plain": [
       "                0    recall\n",
       "0        model_v2  0.921986\n",
       "3        my_model  0.912530\n",
       "2  model_v7_pesos  0.900709\n",
       "1        model_v6  0.858156"
      ]
     },
     "execution_count": 15,
     "metadata": {},
     "output_type": "execute_result"
    }
   ],
   "source": [
    "evaluacion3.sort_values(by='recall', ascending=False)"
   ]
  },
  {
   "cell_type": "markdown",
   "metadata": {},
   "source": [
    "A pesar de que el mejor modelo ante datos nuevos es \"model_v2\", vemos un gran desequilibrio en los resultados del recall si vemos los de la muestra de validación:"
   ]
  },
  {
   "cell_type": "code",
   "execution_count": 16,
   "metadata": {},
   "outputs": [],
   "source": [
    "evaluacion31 = pd.DataFrame(['model_v2', 'model_v6', 'model_v7_pesos', 'my_model'])\n",
    "evaluacion31['recall'] = [recall_score(y_val, np.argmax(model_v2.predict(X_val), axis=1), average='weighted'),\n",
    "                        recall_score(y_val, np.argmax(model_v6.predict(X_val), axis=1), average='weighted'), \n",
    "                        recall_score(y_val, np.argmax(model_v7_pesos.predict(X_val), axis=1), average='weighted'),\n",
    "                        recall_score(y_val, np.argmax(my_model.predict(X_val), axis=1), average='weighted')\n",
    "                        ]"
   ]
  },
  {
   "cell_type": "code",
   "execution_count": 17,
   "metadata": {},
   "outputs": [
    {
     "data": {
      "image/png": "[encoded data removed]",
      "text/plain": [
       "<Figure size 864x360 with 1 Axes>"
      ]
     },
     "metadata": {},
     "output_type": "display_data"
    }
   ],
   "source": [
    "recall(evaluacion31.iloc[:,0], y_test, evaluacion31.iloc[:,1])"
   ]
  },
  {
   "cell_type": "code",
   "execution_count": 18,
   "metadata": {},
   "outputs": [
    {
     "data": {
      "text/html": [
       "<div>\n",
       "<style scoped>\n",
       "    .dataframe tbody tr th:only-of-type {\n",
       "        vertical-align: middle;\n",
       "    }\n",
       "\n",
       "    .dataframe tbody tr th {\n",
       "        vertical-align: top;\n",
       "    }\n",
       "\n",
       "    .dataframe thead th {\n",
       "        text-align: right;\n",
       "    }\n",
       "</style>\n",
       "<table border=\"1\" class=\"dataframe\">\n",
       "  <thead>\n",
       "    <tr style=\"text-align: right;\">\n",
       "      <th></th>\n",
       "      <th>0</th>\n",
       "      <th>recall</th>\n",
       "    </tr>\n",
       "  </thead>\n",
       "  <tbody>\n",
       "    <tr>\n",
       "      <th>3</th>\n",
       "      <td>my_model</td>\n",
       "      <td>0.954436</td>\n",
       "    </tr>\n",
       "    <tr>\n",
       "      <th>0</th>\n",
       "      <td>model_v2</td>\n",
       "      <td>0.937650</td>\n",
       "    </tr>\n",
       "    <tr>\n",
       "      <th>2</th>\n",
       "      <td>model_v7_pesos</td>\n",
       "      <td>0.928058</td>\n",
       "    </tr>\n",
       "    <tr>\n",
       "      <th>1</th>\n",
       "      <td>model_v6</td>\n",
       "      <td>0.918465</td>\n",
       "    </tr>\n",
       "  </tbody>\n",
       "</table>\n",
       "</div>"
      ],
      "text/plain": [
       "                0    recall\n",
       "3        my_model  0.954436\n",
       "0        model_v2  0.937650\n",
       "2  model_v7_pesos  0.928058\n",
       "1        model_v6  0.918465"
      ]
     },
     "execution_count": 18,
     "metadata": {},
     "output_type": "execute_result"
    }
   ],
   "source": [
    "evaluacion31.sort_values(by='recall', ascending=False)"
   ]
  }
 ],
 "metadata": {
  "interpreter": {
   "hash": "c476fdca1fa146c1aa9930d737fa2969289d4717133eb1043d72ac40501f9294"
  },
  "kernelspec": {
   "display_name": "Python 3.7.4 64-bit",
   "language": "python",
   "name": "python3"
  },
  "language_info": {
   "codemirror_mode": {
    "name": "ipython",
    "version": 3
   },
   "file_extension": ".py",
   "mimetype": "text/x-python",
   "name": "python",
   "nbconvert_exporter": "python",
   "pygments_lexer": "ipython3",
   "version": "3.7.4"
  },
  "orig_nbformat": 4
 },
 "nbformat": 4,
 "nbformat_minor": 2
}
